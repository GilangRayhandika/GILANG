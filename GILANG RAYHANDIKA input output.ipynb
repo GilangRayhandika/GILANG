{
 "cells": [
  {
   "cell_type": "code",
   "execution_count": 15,
   "id": "4c56418b",
   "metadata": {},
   "outputs": [
    {
     "name": "stdout",
     "output_type": "stream",
     "text": [
      "isikan nama awalGilang\n",
      "isikan nama tengahRayhan\n",
      "isikan nama akhirdika\n",
      "selamat datang Gilang Rayhan dika\n"
     ]
    }
   ],
   "source": [
    "fname=input ('isikan nama awal')\n",
    "mname= input ('isikan nama tengah')\n",
    "lname= input ('isikan nama akhir')\n",
    "    \n",
    "print ('selamat datang',fname,mname,lname)"
   ]
  },
  {
   "cell_type": "code",
   "execution_count": 10,
   "id": "17de9630",
   "metadata": {},
   "outputs": [
    {
     "name": "stdout",
     "output_type": "stream",
     "text": [
      "isikan bilangan 1 : 12\n",
      "isikan bilangan 2 :23\n",
      "<class 'str'>\n",
      "hasil penjumlahan 35\n"
     ]
    }
   ],
   "source": [
    "bil1 = input('isikan bilangan 1 : ')\n",
    "bil2 = input('isikan bilangan 2 :')\n",
    "print(type(bil1))\n",
    "hasil = int(bil1) + int(bil2)\n",
    "\n",
    "print ('hasil penjumlahan',hasil)"
   ]
  },
  {
   "cell_type": "code",
   "execution_count": 2,
   "id": "aaaeeadd",
   "metadata": {},
   "outputs": [
    {
     "name": "stdout",
     "output_type": "stream",
     "text": [
      "isikan panjang persegi12\n",
      "isikan lebar persegi5\n",
      "luas persegi panjang 12\n",
      "keliling persegi panjang 26\n"
     ]
    }
   ],
   "source": [
    "#luas => p * l\n",
    "#keliling => 2 * (p+l) \n",
    "\n",
    "p = input ('isikan panjang persegi')\n",
    "l = input ('isikan lebar persegi')\n",
    "\n",
    "luas= int(p) * int(1)\n",
    "keliling= 2* (int(p)+ int(1))\n",
    "\n",
    "print('luas persegi panjang',luas)\n",
    "print('keliling persegi panjang',keliling)"
   ]
  },
  {
   "cell_type": "code",
   "execution_count": 3,
   "id": "15fcf944",
   "metadata": {},
   "outputs": [
    {
     "name": "stdout",
     "output_type": "stream",
     "text": [
      "januari-februari-maret-april\n"
     ]
    }
   ],
   "source": [
    "print (\"januari\",\"februari\",\"maret\",\"april\",sep=\"-\"*1)"
   ]
  },
  {
   "cell_type": "code",
   "execution_count": 4,
   "id": "4a527aed",
   "metadata": {},
   "outputs": [
    {
     "name": "stdout",
     "output_type": "stream",
     "text": [
      "perkalian7dengan10adalah70\n"
     ]
    }
   ],
   "source": [
    "number1 = 7 \n",
    "number2 = 10 \n",
    "\n",
    "#hasil perkalian dari 7 dengan 10 adalah 70 \n",
    "print (\"perkalian{}dengan{}adalah{}\".format(number1,number2,number1 *number2))"
   ]
  },
  {
   "cell_type": "code",
   "execution_count": 14,
   "id": "6d64f681",
   "metadata": {},
   "outputs": [
    {
     "name": "stdout",
     "output_type": "stream",
     "text": [
      "urutan huruf GilangRayhandika\n"
     ]
    }
   ],
   "source": [
    "frist_name =\"Gilang\"\n",
    "middle_name =\"Rayhan\"\n",
    "last_name =\"dika\"\n",
    "print (\"urutan huruf {}{}{}\".format (frist_name,middle_name,last_name))"
   ]
  },
  {
   "cell_type": "code",
   "execution_count": 8,
   "id": "94243e1c",
   "metadata": {},
   "outputs": [
    {
     "name": "stdout",
     "output_type": "stream",
     "text": [
      "sekarang tanggal 20 bulan maret dan 2024)\n"
     ]
    }
   ],
   "source": [
    "#sekarang tanggal 20 bulan maret tahun 2024\n",
    "print (\"sekarang tanggal {tanggal} bulan {bulan} dan {tahun})\".\n",
    "       format(tanggal =20,bulan =\"maret\",tahun = 2024))"
   ]
  },
  {
   "cell_type": "code",
   "execution_count": 11,
   "id": "e7b3fbfa",
   "metadata": {},
   "outputs": [
    {
     "name": "stdout",
     "output_type": "stream",
     "text": [
      "huruf pertama adalah: U\n",
      "huruf terakhir adalah a\n",
      "huruf range 0-10 Universitas\n",
      "Putra\n",
      "Nusa Putra\n",
      "artuP asuN satisrevinU\n"
     ]
    }
   ],
   "source": [
    "kampus = \"Universitas Nusa Putra\"\n",
    "print (\"huruf pertama adalah:\",kampus [0])\n",
    "print (\"huruf terakhir adalah\",kampus [-1])\n",
    "print (\"huruf range 0-10\",kampus [0:11])\n",
    "print (kampus[-5:])\n",
    "print (kampus[12:])\n",
    "#reverse string \n",
    "print(kampus[::-1])\n"
   ]
  },
  {
   "cell_type": "code",
   "execution_count": 13,
   "id": "594488e5",
   "metadata": {},
   "outputs": [
    {
     "name": "stdout",
     "output_type": "stream",
     "text": [
      "['cibadak', 'cisolok', 'palabuhanratu', 'bandung', 'yogyakarta', 'solo', 'wonogiri']\n",
      "cibadak\n",
      "cibadak@cisolok@palabuhanratu@bandung@yogyakarta@solo@wonogiri\n"
     ]
    }
   ],
   "source": [
    "#split => string -> list\n",
    "kota= \"cibadak cisolok palabuhanratu bandung yogyakarta solo wonogiri\"\n",
    "list_kota =kota.split()\n",
    "print(list_kota) \n",
    "print(list_kota[0]) \n",
    "#join => list -> string\n",
    "join_kota =\"@\".join(list_kota)\n",
    "print(join_kota)"
   ]
  },
  {
   "cell_type": "code",
   "execution_count": 8,
   "id": "f608c009",
   "metadata": {},
   "outputs": [
    {
     "name": "stdout",
     "output_type": "stream",
     "text": [
      "isikan nama anda:GILANG RAYHANDIKA\n",
      "isikan tanggal lahir:19 NOVEMBER 2004\n",
      "nama awal : GILANG\n",
      "nama akhir: RAYHANDIKA\n",
      "hari: 19\n",
      "bulan: NOVEMBER\n",
      "tahun: 2004\n",
      "Nama Inisial: GR\n"
     ]
    }
   ],
   "source": [
    "#isikan nama anda : \n",
    "#isikan tanggal lahir :  \n",
    "#output :\n",
    "#nama awal : \n",
    "#nama akhir : \n",
    "#tgl lahir : \n",
    "#bulan lahir:\n",
    "#tahun lahir:\n",
    "#nama inisial:\n",
    "\n",
    "nama = input (\"isikan nama anda:\")\n",
    "tgl = input (\"isikan tanggal lahir:\")\n",
    "\n",
    "list_nama = nama.split()\n",
    "print(\"nama awal :\" , list_nama[0])\n",
    "print(\"nama akhir:\" , list_nama[1])\n",
    "\n",
    "list_tgl = tgl.split()\n",
    "print(\"hari:\", list_tgl[0])\n",
    "print(\"bulan:\", list_tgl[1])\n",
    "print(\"tahun:\", list_tgl[2])\n",
    "\n",
    "inisial = list_nama[0][0] + list_nama[1][0]\n",
    "\n",
    "print(\"Nama Inisial:\", inisial)\n",
    "\n",
    "\n",
    "\n"
   ]
  },
  {
   "cell_type": "code",
   "execution_count": null,
   "id": "75b5d545",
   "metadata": {},
   "outputs": [],
   "source": []
  },
  {
   "cell_type": "code",
   "execution_count": null,
   "id": "ddd698b2",
   "metadata": {},
   "outputs": [],
   "source": []
  }
 ],
 "metadata": {
  "kernelspec": {
   "display_name": "Python 3 (ipykernel)",
   "language": "python",
   "name": "python3"
  },
  "language_info": {
   "codemirror_mode": {
    "name": "ipython",
    "version": 3
   },
   "file_extension": ".py",
   "mimetype": "text/x-python",
   "name": "python",
   "nbconvert_exporter": "python",
   "pygments_lexer": "ipython3",
   "version": "3.9.12"
  }
 },
 "nbformat": 4,
 "nbformat_minor": 5
}
